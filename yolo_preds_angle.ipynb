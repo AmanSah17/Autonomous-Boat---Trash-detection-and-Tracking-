{
 "cells": [
  {
   "cell_type": "markdown",
   "id": "bca21509",
   "metadata": {},
   "source": [
    "# Author : Aman Sah\n",
    "Email ID : amansah22@iitk.ac.in , amansah1717@gmail.com"
   ]
  },
  {
   "cell_type": "markdown",
   "id": "65b6172d",
   "metadata": {},
   "source": [
    "This below sample code , is used to demonstrate how yolov5 can be used to extract the centroid co-ordinates of the bounding box, containig the labelled class object using openCV.\n",
    "\n",
    "The code extracts the angle of the centroid co-ordinates with respect to Video Frame co-ordinate system."
   ]
  },
  {
   "cell_type": "code",
   "execution_count": 19,
   "id": "e4493117",
   "metadata": {},
   "outputs": [],
   "source": [
    "import os\n",
    "\n",
    "os.chdir(\"E:\\AI_Boat_dataset\\Tracking codes\")"
   ]
  },
  {
   "cell_type": "code",
   "execution_count": 20,
   "id": "6b7b026c",
   "metadata": {},
   "outputs": [
    {
     "name": "stdout",
     "output_type": "stream",
     "text": [
      " Volume in drive E is New Volume\n",
      " Volume Serial Number is 8C79-A869\n",
      "\n",
      " Directory of E:\\AI_Boat_dataset\\Tracking codes\n",
      "\n",
      "21-01-2024  23:28    <DIR>          .\n",
      "08-01-2024  17:03    <DIR>          ..\n",
      "11-01-2024  03:41    <DIR>          .ipynb_checkpoints\n",
      "08-01-2024  08:35    <DIR>          __pycache__\n",
      "08-01-2024  08:29        28,652,218 boat_automation.onnx\n",
      "08-01-2024  05:32               263 data.yaml\n",
      "21-01-2024  23:27        39,765,363 output_resized_video.mp4\n",
      "21-01-2024  23:19               258 trash_tracking.mp4\n",
      "08-01-2024  07:31             5,584 yolo_preds_2.py\n",
      "21-01-2024  23:28            12,357 yolo_preds_angle.ipynb\n",
      "               6 File(s)     68,436,043 bytes\n",
      "               4 Dir(s)  52,718,080,000 bytes free\n"
     ]
    }
   ],
   "source": [
    "ls"
   ]
  },
  {
   "cell_type": "code",
   "execution_count": 21,
   "id": "88b591d1",
   "metadata": {},
   "outputs": [],
   "source": [
    "import cv2\n",
    "from yolo_preds_2 import YOLO_Pred"
   ]
  },
  {
   "cell_type": "code",
   "execution_count": 22,
   "id": "4c8eadb2",
   "metadata": {},
   "outputs": [],
   "source": [
    "yolo = YOLO_Pred(\"boat_automation.onnx\", \"data.yaml\")"
   ]
  },
  {
   "cell_type": "code",
   "execution_count": 5,
   "id": "deba2a0b",
   "metadata": {},
   "outputs": [],
   "source": [
    "img = cv2.imread(\n",
    "    \"E:\\\\AI_Boat_dataset\\\\data_images\\\\train\\\\war-on-plastics-main_jpg.rf.1e9d8028404ff39960b61da68a3ac9b6.jpg\"\n",
    ")\n",
    "\n",
    "cv2.imshow(\"img\", img)\n",
    "cv2.waitKey(0)\n",
    "cv2.destroyAllWindows()"
   ]
  },
  {
   "cell_type": "code",
   "execution_count": 6,
   "id": "d3c5a55c",
   "metadata": {},
   "outputs": [],
   "source": [
    "# predictions\n",
    "img_pred = yolo.predictions(img)"
   ]
  },
  {
   "cell_type": "code",
   "execution_count": 7,
   "id": "f250b9ee",
   "metadata": {},
   "outputs": [],
   "source": [
    "cv2.imshow(\"prediction image\", img_pred)\n",
    "cv2.waitKey(0)\n",
    "cv2.destroyAllWindows()"
   ]
  },
  {
   "cell_type": "code",
   "execution_count": 8,
   "id": "b94124d6",
   "metadata": {},
   "outputs": [
    {
     "name": "stdout",
     "output_type": "stream",
     "text": [
      "unable to read video\n"
     ]
    }
   ],
   "source": [
    "cap = cv2.VideoCapture(\"video.mp4\")\n",
    "\n",
    "\n",
    "while True:\n",
    "    ret, frame = cap.read()\n",
    "    if ret == False:\n",
    "        print(\"unable to read video\")\n",
    "        break\n",
    "\n",
    "    pred_image = yolo.predictions(frame)\n",
    "\n",
    "    cv2.imshow(\"YOLO\", pred_image)\n",
    "    if cv2.waitKey(1) == 27:\n",
    "        break\n",
    "\n",
    "cv2.destroyAllWindows()\n",
    "cap.release()"
   ]
  },
  {
   "cell_type": "code",
   "execution_count": 23,
   "id": "15358472",
   "metadata": {},
   "outputs": [],
   "source": [
    "import cv2\n",
    "\n",
    "\n",
    "# Input video file path\n",
    "input_video_path = \"E:\\\\AI_Boat_dataset\\\\bottle_waste_video.mp4\"\n",
    "\n",
    "# Output video file path after resizing\n",
    "output_resized_video_path = \"output_resized_video.mp4\"\n",
    "\n",
    "# Target width and height\n",
    "target_width = 640\n",
    "target_height = 640\n",
    "\n",
    "# Open the input video file\n",
    "cap = cv2.VideoCapture(input_video_path)\n",
    "\n",
    "# Get the original video's width and height\n",
    "original_width = int(cap.get(cv2.CAP_PROP_FRAME_WIDTH))\n",
    "original_height = int(cap.get(cv2.CAP_PROP_FRAME_HEIGHT))\n",
    "\n",
    "# Define the codec and create VideoWriter object for the resized video\n",
    "fourcc_resized = cv2.VideoWriter_fourcc(*\"mp4v\")\n",
    "out_resized = cv2.VideoWriter(\n",
    "    output_resized_video_path, fourcc_resized, 30.0, (target_width, target_height)\n",
    ")\n",
    "\n",
    "while cap.isOpened():\n",
    "    ret, frame = cap.read()\n",
    "\n",
    "    if not ret:\n",
    "        break\n",
    "\n",
    "    # Resize the frame to the target dimensions\n",
    "    resized_frame = cv2.resize(frame, (target_width, target_height))\n",
    "\n",
    "    # Write the resized frame to the output video\n",
    "    out_resized.write(resized_frame)\n",
    "\n",
    "    # Perform YOLO predictions on the resized frame\n",
    "    pred_image = yolo.predictions(resized_frame)\n",
    "\n",
    "    # Display the YOLO predictions on the original-sized frame\n",
    "    cv2.imshow(\"YOLO\", pred_image)\n",
    "\n",
    "    if cv2.waitKey(1) == 27:\n",
    "        break\n",
    "\n",
    "# Release video capture and writer objects\n",
    "cap.release()\n",
    "out_resized.release()\n",
    "cv2.destroyAllWindows()"
   ]
  },
  {
   "cell_type": "code",
   "execution_count": 18,
   "id": "924e08ad",
   "metadata": {},
   "outputs": [],
   "source": [
    "import os\n",
    "import cv2\n",
    "\n",
    "# Input video file path\n",
    "input_video_path = \"E:\\\\AI_Boat_dataset\\\\bottle_waste_video.mp4\"\n",
    "\n",
    "# Output video file path after resizing\n",
    "output_resized_video_path = \"output_resized_video.mp4\"\n",
    "\n",
    "# Output video file path after YOLO predictions\n",
    "output_yolo_video_filename = \"output_yolo_video.mp4\"\n",
    "output_yolo_video_path = os.path.join(os.path.expanduser(\"~\"), \"Downloads\", output_yolo_video_filename)\n",
    "\n",
    "# Target width and height\n",
    "target_width = 640\n",
    "target_height = 640\n",
    "\n",
    "# Open the input video file\n",
    "cap = cv2.VideoCapture(input_video_path)\n",
    "\n",
    "# Get the original video's width and height\n",
    "original_width = int(cap.get(cv2.CAP_PROP_FRAME_WIDTH))\n",
    "original_height = int(cap.get(cv2.CAP_PROP_FRAME_HEIGHT))\n",
    "\n",
    "# Define the codec and create VideoWriter object for the resized video\n",
    "fourcc_resized = cv2.VideoWriter_fourcc(*\"mp4v\")\n",
    "out_resized = cv2.VideoWriter(\n",
    "    output_resized_video_path, fourcc_resized, 30.0, (target_width, target_height)\n",
    ")\n",
    "\n",
    "# Define the codec and create VideoWriter object for the YOLO predicted video\n",
    "fourcc_yolo = cv2.VideoWriter_fourcc(*\"mp4v\")\n",
    "out_yolo = cv2.VideoWriter(\n",
    "    output_yolo_video_path, fourcc_yolo, 30.0, (original_width, original_height)\n",
    ")\n",
    "\n",
    "while cap.isOpened():\n",
    "    ret, frame = cap.read()\n",
    "\n",
    "    if not ret:\n",
    "        break\n",
    "\n",
    "    # Resize the frame to the target dimensions\n",
    "    resized_frame = cv2.resize(frame, (target_width, target_height))\n",
    "\n",
    "    # Perform YOLO predictions on the resized frame\n",
    "    pred_image = yolo.predictions(resized_frame)\n",
    "\n",
    "    # Write the resized frame to the output resized video\n",
    "    out_resized.write(resized_frame)\n",
    "\n",
    "    # Write the frame with YOLO predictions to the output YOLO video\n",
    "    out_yolo.write(pred_image)\n",
    "\n",
    "    # Display the YOLO predictions on the original-sized frame\n",
    "    cv2.imshow(\"YOLO\", pred_image)\n",
    "\n",
    "    if cv2.waitKey(1) == 27:\n",
    "        break\n",
    "\n",
    "# Release video capture and writer objects\n",
    "cap.release()\n",
    "out_resized.release()\n",
    "out_yolo.release()\n",
    "cv2.destroyAllWindows()\n"
   ]
  },
  {
   "cell_type": "code",
   "execution_count": 12,
   "id": "06494930",
   "metadata": {},
   "outputs": [],
   "source": [
    "import cv2\n",
    "\n",
    "# Input video file path\n",
    "input_video_path = \"E:\\\\AI_Boat_dataset\\\\bottle_waste_video.mp4\"\n",
    "\n",
    "# Output video file path after tracking\n",
    "output_tracking_video_path = \"trash_tracking.mp4\"\n",
    "\n",
    "# Target width and height\n",
    "target_width = 640\n",
    "target_height = 640\n",
    "\n",
    "# Open the input video file\n",
    "cap = cv2.VideoCapture(input_video_path)\n",
    "\n",
    "# Get the original video's width and height\n",
    "original_width = int(cap.get(cv2.CAP_PROP_FRAME_WIDTH))\n",
    "original_height = int(cap.get(cv2.CAP_PROP_FRAME_HEIGHT))\n",
    "\n",
    "# Define the codec and create VideoWriter object for the tracking video\n",
    "fourcc_tracking = cv2.VideoWriter_fourcc(*\"mp4v\")\n",
    "out_tracking = cv2.VideoWriter(\n",
    "    output_tracking_video_path, fourcc_tracking, 30.0, (original_width, original_height)\n",
    ")\n",
    "\n",
    "# Flag to determine if it's time to perform tracking\n",
    "perform_tracking = False\n",
    "\n",
    "while cap.isOpened():\n",
    "    ret, frame = cap.read()\n",
    "\n",
    "    if not ret:\n",
    "        break\n",
    "\n",
    "    # Check if it's time to perform tracking (every 3rd frame)\n",
    "    if perform_tracking:\n",
    "        # Perform tracking on the frame (you can replace this with your tracking code)\n",
    "        tracked_frame = cv2.cvtColor(frame, cv2.COLOR_BGR2GRAY)  # Placeholder, replace with actual tracking code\n",
    "\n",
    "        # Write the tracked frame to the output tracking video\n",
    "        out_tracking.write(tracked_frame)\n",
    "\n",
    "        # Display the tracked frame\n",
    "        cv2.imshow(\"Tracking\", tracked_frame)\n",
    "\n",
    "        perform_tracking = True  # Reset the flag after tracking is done\n",
    "\n",
    "    # Resize the frame to the target dimensions\n",
    "    resized_frame = cv2.resize(frame, (target_width, target_height))\n",
    "\n",
    "    # Perform YOLO predictions on the resized frame\n",
    "    pred_image = cv2.cvtColor(resized_frame, cv2.COLOR_BGR2RGB)  # Placeholder, replace with actual YOLO code\n",
    "\n",
    "    # Display the YOLO predictions on the original-sized frame\n",
    "    cv2.imshow(\"YOLO\", pred_image)\n",
    "\n",
    "    if cv2.waitKey(1) == 27:\n",
    "        break\n",
    "\n",
    "    # Toggle the flag every 3rd frame\n",
    "    perform_tracking = not perform_tracking\n",
    "\n",
    "# Release video capture and writer objects\n",
    "cap.release()\n",
    "out_tracking.release()\n",
    "cv2.destroyAllWindows()\n"
   ]
  },
  {
   "cell_type": "code",
   "execution_count": 14,
   "id": "c69c0030",
   "metadata": {},
   "outputs": [
    {
     "name": "stdout",
     "output_type": "stream",
     "text": [
      "Collecting darknet\n",
      "  Downloading darknet-0.3-py3-none-any.whl (4.6 kB)\n",
      "Installing collected packages: darknet\n",
      "Successfully installed darknet-0.3\n"
     ]
    }
   ],
   "source": [
    "!pip install darknet"
   ]
  },
  {
   "cell_type": "code",
   "execution_count": null,
   "id": "9c2e3fe5",
   "metadata": {},
   "outputs": [],
   "source": []
  }
 ],
 "metadata": {
  "kernelspec": {
   "display_name": "Python 3 (ipykernel)",
   "language": "python",
   "name": "python3"
  },
  "language_info": {
   "codemirror_mode": {
    "name": "ipython",
    "version": 3
   },
   "file_extension": ".py",
   "mimetype": "text/x-python",
   "name": "python",
   "nbconvert_exporter": "python",
   "pygments_lexer": "ipython3",
   "version": "3.10.6"
  }
 },
 "nbformat": 4,
 "nbformat_minor": 5
}
